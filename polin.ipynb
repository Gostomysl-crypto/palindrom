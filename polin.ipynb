{
 "cells": [
  {
   "cell_type": "code",
   "execution_count": 17,
   "metadata": {},
   "outputs": [
    {
     "name": "stdout",
     "output_type": "stream",
     "text": [
      "Наибольший полиндром и два простых числа:  (99899, 283, 353)\n",
      "Wall time: 26 ms\n"
     ]
    }
   ],
   "source": [
    "%%time\n",
    "class PrimeNumber:\n",
    "\n",
    "    def is_prime(n):\n",
    "        if n % 2 == 0:\n",
    "            return n == 2\n",
    "        d = 3\n",
    "        while d * d <= n and n % d != 0:\n",
    "            d += 2\n",
    "        return d * d > n\n",
    "    # def is_prime(n): \n",
    "    #    d = 2\n",
    "    #    while d*d <=n and n % d != 0:\n",
    "    #        d += 1\n",
    "    #    return d * d > n\n",
    "    \n",
    "    \n",
    "def reverse_number(n, partial=0):\n",
    "    if n == 0:\n",
    "        return partial\n",
    "    return reverse_number(n//10, partial * 10 + n % 10)\n",
    "\n",
    "\n",
    "a = []\n",
    "\n",
    "for i in range(100, 1000):\n",
    "    if PrimeNumber.is_prime(i):\n",
    "        a.append(i)\n",
    "\n",
    "b = []\n",
    "\n",
    "\n",
    "def maxpal(a):\n",
    "    for i in range(len(a)-1, -1, -1):\n",
    "        for j in range(len(a)-1, i, -1):\n",
    "            if a[i]*a[j] == reverse_number((a[i]*a[j])):\n",
    "                return a[i]*a[j], a[i], a[j]\n",
    "\n",
    "print('Наибольший полиндром и два простых числа: ', maxpal(a))"
   ]
  }
