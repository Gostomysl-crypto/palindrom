{
 "cells": [
  {
   "cell_type": "code",
   "execution_count": 17,
   "metadata": {},
   "outputs": [
    {
     "name": "stdout",
     "output_type": "stream",
     "text": [
      "Наибольший полиндром и два простых числа:  (99899, 283, 353)\n",
      "Wall time: 26 ms\n"
     ]
    }
   ],
   "source": [
    "%%time\n",
    "class PrimeNumber:\n",
    "\n",
    "    def is_prime(n):\n",
    "        if n % 2 == 0:\n",
    "            return n == 2\n",
    "        d = 3\n",
    "        while d * d <= n and n % d != 0:\n",
    "            d += 2\n",
    "        return d * d > n\n",
    "    # def is_prime(n): \n",
    "    #    d = 2\n",
    "    #    while d*d <=n and n % d != 0:\n",
    "    #        d += 1\n",
    "    #    return d * d > n\n",
    "    \n",
    "    \n",
    "def reverse_number(n, partial=0):\n",
    "    if n == 0:\n",
    "        return partial\n",
    "    return reverse_number(n//10, partial * 10 + n % 10)\n",
    "\n",
    "\n",
    "a = []\n",
    "\n",
    "for i in range(100, 1000):\n",
    "    if PrimeNumber.is_prime(i):\n",
    "        a.append(i)\n",
    "\n",
    "b = []\n",
    "\n",
    "\n",
    "def maxpal(a):\n",
    "    for i in range(len(a)-1, -1, -1):\n",
    "        for j in range(len(a)-1, i, -1):\n",
    "            if a[i]*a[j] == reverse_number((a[i]*a[j])):\n",
    "                return a[i]*a[j], a[i], a[j]\n",
    "\n",
    "print('Наибольший полиндром и два простых числа: ', maxpal(a))"
   ]
  },
  {
   "cell_type": "code",
   "execution_count": 18,
   "metadata": {},
   "outputs": [
    {
     "name": "stdout",
     "output_type": "stream",
     "text": [
      "Numbers: 283 353\n",
      "Result: 99899\n",
      "Wall time: 73 ms\n"
     ]
    }
   ],
   "source": [
    "%%time\n",
    "import numpy as np\n",
    "\n",
    "needed_numbers = []\n",
    "pos_x, pos_y, palindrom = 0, 0, 0\n",
    "\n",
    "M = int(100)\n",
    "N = int(999)\n",
    "A = [True] * N\n",
    "A[0] = A[1] = False\n",
    "for i in range(2, N):\n",
    "    if A[i]:\n",
    "        for j in range(2*i, N, i):\n",
    "            A[j] = False\n",
    "        if i > M:\n",
    "            needed_numbers.append(i)\n",
    "\n",
    "vector = np.array(needed_numbers)\n",
    "column_vector = np.reshape(vector, (vector.shape[0], 1))\n",
    "\n",
    "all_multiplies = vector * column_vector\n",
    "\n",
    "for i in range(len(all_multiplies)):\n",
    "    for j in range(len(all_multiplies[i])):\n",
    "        number = str(all_multiplies[i][j])\n",
    "        if number == number[::-1]:\n",
    "            if palindrom < all_multiplies[i][j]:\n",
    "                pos_x, pos_y, palindrom = i, j, all_multiplies[i][j]\n",
    "\n",
    "print(\"Numbers:\", vector[pos_x], int(column_vector[pos_y]))\n",
    "print(\"Result:\", palindrom)"
   ]
  },
  {
   "cell_type": "code",
   "execution_count": null,
   "metadata": {},
   "outputs": [],
   "source": []
  },
  {
   "cell_type": "code",
   "execution_count": null,
   "metadata": {},
   "outputs": [],
   "source": []
  },
  {
   "cell_type": "code",
   "execution_count": null,
   "metadata": {},
   "outputs": [],
   "source": []
  }
 ],
 "metadata": {
  "kernelspec": {
   "display_name": "Python 3",
   "language": "python",
   "name": "python3"
  },
  "language_info": {
   "codemirror_mode": {
    "name": "ipython",
    "version": 3
   },
   "file_extension": ".py",
   "mimetype": "text/x-python",
   "name": "python",
   "nbconvert_exporter": "python",
   "pygments_lexer": "ipython3",
   "version": "3.8.5"
  }
 },
 "nbformat": 4,
 "nbformat_minor": 4
}
